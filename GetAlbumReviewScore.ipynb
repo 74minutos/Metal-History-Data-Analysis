{
 "cells": [
  {
   "cell_type": "code",
   "execution_count": 8,
   "metadata": {
    "collapsed": false
   },
   "outputs": [],
   "source": [
    "\n",
    "import time\n",
    "import datetime\n",
    "import requests\n",
    "from bs4 import BeautifulSoup\n",
    "from pandas import DataFrame\n",
    "import string\n",
    "import re\n",
    "import itertools\n",
    "\n",
    "import requests\n",
    "from bs4 import BeautifulSoup\n",
    "import pandas as pd\n",
    "import numpy as np\n",
    "np.random.seed(10)\n",
    "\n",
    "import matplotlib.pyplot as plt\n",
    "from matplotlib.colors import LogNorm, rgb2hex\n",
    "%matplotlib inline\n",
    "%config InlineBackend.figure_format = 'retina'\n",
    "\n",
    "import seaborn as sns\n",
    "sns.set_style('whitegrid')\n",
    "\n",
    "from sklearn.preprocessing import MultiLabelBinarizer\n",
    "from sklearn.decomposition import PCA\n",
    "from sklearn.cluster import KMeans, DBSCAN\n",
    "\n",
    "\n",
    "import re\n",
    "\n",
    "import sys"
   ]
  },
  {
   "cell_type": "code",
   "execution_count": 9,
   "metadata": {
    "collapsed": true
   },
   "outputs": [],
   "source": [
    "headers = {\n",
    "    'User-Agent': 'Mozilla/5.0 (Macintosh; Intel Mac OS X 10_11_5) AppleWebKit/537.36 (KHTML, like Gecko) Chrome/50.0.2661.102 Safari/537.36'}\n",
    "\n",
    "exAL='<a href=\"https://www.metal-archives.com/albums/Black_Sabbath/Paranoid/485531\">Paranoid</a> <!-- 2 -->'\n",
    "encoding='UTF-8'"
   ]
  },
  {
   "cell_type": "code",
   "execution_count": 7,
   "metadata": {
    "collapsed": true
   },
   "outputs": [],
   "source": [
    "linksoup = BeautifulSoup(exAL, 'html.parser')\n",
    "album_page = requests.get(linksoup.a['href'], headers=headers)\n",
    "            #review_page.encoding = encoding\n",
    "            #review_soup = BeautifulSoup(review_page.text, 'html.parser')"
   ]
  },
  {
   "cell_type": "code",
   "execution_count": 10,
   "metadata": {
    "collapsed": false
   },
   "outputs": [],
   "source": [
    "album_soup=BeautifulSoup(album_page.text, 'html.parser')"
   ]
  },
  {
   "cell_type": "code",
   "execution_count": 25,
   "metadata": {
    "collapsed": false
   },
   "outputs": [
    {
     "data": {
      "text/plain": [
       "u'94'"
      ]
     },
     "execution_count": 25,
     "metadata": {},
     "output_type": "execute_result"
    }
   ],
   "source": [
    "album_soup.find_all('dl',{'class':'float_right'})[0].text.split('\\n')[-3][-4:-2]"
   ]
  },
  {
   "cell_type": "code",
   "execution_count": 37,
   "metadata": {
    "collapsed": false
   },
   "outputs": [],
   "source": [
    "data = pd.read_csv('MA-albums_2019-09-14_withFormat.csv', index_col=0)"
   ]
  },
  {
   "cell_type": "code",
   "execution_count": 24,
   "metadata": {
    "collapsed": true
   },
   "outputs": [],
   "source": [
    "def getRevScore(album_link):\n",
    "    linksoup = BeautifulSoup(album_link, 'html.parser')\n",
    "    album_page = requests.get(linksoup.a['href'], headers=headers)\n",
    "    album_soup=BeautifulSoup(album_page.text, 'html.parser')\n",
    "    revstring=album_soup.find_all('dl',{'class':'float_right'})[0].text.split('\\n')[-3]\n",
    "    perc=revstring[-4:-2]\n",
    "    return revstring"
   ]
  },
  {
   "cell_type": "code",
   "execution_count": null,
   "metadata": {
    "collapsed": false
   },
   "outputs": [
    {
     "name": "stdout",
     "output_type": "stream",
     "text": [
      "checked 5952 of 487000 albums, found 3346 review scores\r"
     ]
    }
   ],
   "source": [
    "data_revScore=pd.DataFrame(columns=['AlbumName','BandName','ReviewScore'])\n",
    "ndat=len(data)\n",
    "for i in data.index:\n",
    "    #sys.stdout.write('\\r')\n",
    "    #print('\\r')\n",
    "    revstring=getRevScore(data['AlbumLink'][i])\n",
    "    perc=revstring[-4:-2]\n",
    "    albumName = BeautifulSoup(data['AlbumLink'][i], 'html.parser').text\n",
    "    bandName = BeautifulSoup(data['BandLink'][i], 'html.parser').text\n",
    "    if(perc!=u' y'):\n",
    "        data_revScore=data_revScore.append({'AlbumName': albumName, 'BandName':bandName, 'ReviewScore':int(perc)}, ignore_index=True)\n",
    "    #sys.stdout.write(\"checked %i of %i albums, found %i review scores\" % (i,ndat,len(data_revScore)))\n",
    "    print(\"checked %i of %i albums, found %i review scores\" % (i+1,ndat,len(data_revScore)), end='\\r')\n",
    "    sys.stdout.flush()\n",
    "    if(i%100): \n",
    "        data_revScore.to_csv('Ma-revScore_2019-09-14_tmp.csv')\n",
    "    #time.sleep(0.2)\n",
    "    \n",
    "data_revScore.to_csv('Ma-revScore_2019-09-14.csv')\n",
    "    \n",
    "    "
   ]
  },
  {
   "cell_type": "code",
   "execution_count": 39,
   "metadata": {
    "collapsed": false
   },
   "outputs": [
    {
     "name": "stdout",
     "output_type": "stream",
     "text": [
      "\r",
      "123\r",
      "234\r",
      "345\r",
      "465\r",
      "2657\r"
     ]
    }
   ],
   "source": [
    "\n",
    "sys.stdout.write('\\r')\n",
    "sys.stdout.write('123')\n",
    "sys.stdout.write('\\r')\n",
    "sys.stdout.write('234')\n",
    "sys.stdout.write('\\r')\n",
    "sys.stdout.write('345')\n",
    "sys.stdout.write('\\r')\n",
    "sys.stdout.write('465')\n",
    "sys.stdout.write('\\r')\n",
    "sys.stdout.write('2657')\n",
    "sys.stdout.write('\\r')"
   ]
  },
  {
   "cell_type": "code",
   "execution_count": 30,
   "metadata": {
    "collapsed": false
   },
   "outputs": [
    {
     "data": {
      "text/plain": [
       "'Rush '"
      ]
     },
     "execution_count": 30,
     "metadata": {},
     "output_type": "execute_result"
    }
   ],
   "source": [
    "albumName"
   ]
  },
  {
   "cell_type": "code",
   "execution_count": 32,
   "metadata": {
    "collapsed": false
   },
   "outputs": [
    {
     "data": {
      "text/plain": [
       "71"
      ]
     },
     "execution_count": 32,
     "metadata": {},
     "output_type": "execute_result"
    }
   ],
   "source": [
    "int(perc)\n"
   ]
  },
  {
   "cell_type": "code",
   "execution_count": 36,
   "metadata": {
    "collapsed": false
   },
   "outputs": [
    {
     "data": {
      "text/html": [
       "<div>\n",
       "<table border=\"1\" class=\"dataframe\">\n",
       "  <thead>\n",
       "    <tr style=\"text-align: right;\">\n",
       "      <th></th>\n",
       "      <th>AlbumName</th>\n",
       "      <th>BandName</th>\n",
       "      <th>ReviewScore</th>\n",
       "    </tr>\n",
       "  </thead>\n",
       "  <tbody>\n",
       "    <tr>\n",
       "      <th>0</th>\n",
       "      <td>Evil Invaders</td>\n",
       "      <td>Razor</td>\n",
       "      <td>88</td>\n",
       "    </tr>\n",
       "    <tr>\n",
       "      <th>1</th>\n",
       "      <td>Executioner's Song</td>\n",
       "      <td>Razor</td>\n",
       "      <td>86</td>\n",
       "    </tr>\n",
       "    <tr>\n",
       "      <th>2</th>\n",
       "      <td>Executioner's Song</td>\n",
       "      <td>Razor</td>\n",
       "      <td>86</td>\n",
       "    </tr>\n",
       "    <tr>\n",
       "      <th>3</th>\n",
       "      <td>Breathe Fire</td>\n",
       "      <td>Rex Vector</td>\n",
       "      <td>80</td>\n",
       "    </tr>\n",
       "    <tr>\n",
       "      <th>4</th>\n",
       "      <td>Narita</td>\n",
       "      <td>Riot V</td>\n",
       "      <td>83</td>\n",
       "    </tr>\n",
       "    <tr>\n",
       "      <th>5</th>\n",
       "      <td>Narita</td>\n",
       "      <td>Riot V</td>\n",
       "      <td>83</td>\n",
       "    </tr>\n",
       "    <tr>\n",
       "      <th>6</th>\n",
       "      <td>First Visit</td>\n",
       "      <td>Rogue Male</td>\n",
       "      <td>70</td>\n",
       "    </tr>\n",
       "    <tr>\n",
       "      <th>7</th>\n",
       "      <td>First Visit</td>\n",
       "      <td>Rogue Male</td>\n",
       "      <td>70</td>\n",
       "    </tr>\n",
       "    <tr>\n",
       "      <th>8</th>\n",
       "      <td>First Visit</td>\n",
       "      <td>Rogue Male</td>\n",
       "      <td>70</td>\n",
       "    </tr>\n",
       "    <tr>\n",
       "      <th>9</th>\n",
       "      <td>First Visit</td>\n",
       "      <td>Rogue Male</td>\n",
       "      <td>70</td>\n",
       "    </tr>\n",
       "    <tr>\n",
       "      <th>10</th>\n",
       "      <td>First Visit</td>\n",
       "      <td>Rogue Male</td>\n",
       "      <td>70</td>\n",
       "    </tr>\n",
       "  </tbody>\n",
       "</table>\n",
       "</div>"
      ],
      "text/plain": [
       "              AlbumName    BandName  ReviewScore\n",
       "0        Evil Invaders        Razor           88\n",
       "1   Executioner's Song        Razor           86\n",
       "2   Executioner's Song        Razor           86\n",
       "3         Breathe Fire   Rex Vector           80\n",
       "4               Narita       Riot V           83\n",
       "5               Narita       Riot V           83\n",
       "6          First Visit   Rogue Male           70\n",
       "7          First Visit   Rogue Male           70\n",
       "8          First Visit   Rogue Male           70\n",
       "9          First Visit   Rogue Male           70\n",
       "10         First Visit   Rogue Male           70"
      ]
     },
     "execution_count": 36,
     "metadata": {},
     "output_type": "execute_result"
    }
   ],
   "source": [
    "data_revScore\n"
   ]
  },
  {
   "cell_type": "code",
   "execution_count": 33,
   "metadata": {
    "collapsed": false
   },
   "outputs": [
    {
     "data": {
      "text/html": [
       "<div>\n",
       "<table border=\"1\" class=\"dataframe\">\n",
       "  <thead>\n",
       "    <tr style=\"text-align: right;\">\n",
       "      <th></th>\n",
       "      <th>AlbumName</th>\n",
       "      <th>BandName</th>\n",
       "      <th>ReviewScore</th>\n",
       "    </tr>\n",
       "  </thead>\n",
       "  <tbody>\n",
       "    <tr>\n",
       "      <th>0</th>\n",
       "      <td>Rush</td>\n",
       "      <td>Rush</td>\n",
       "      <td>71</td>\n",
       "    </tr>\n",
       "  </tbody>\n",
       "</table>\n",
       "</div>"
      ],
      "text/plain": [
       "  AlbumName BandName  ReviewScore\n",
       "0     Rush      Rush           71"
      ]
     },
     "execution_count": 33,
     "metadata": {},
     "output_type": "execute_result"
    }
   ],
   "source": [
    "data_revScore.append({'AlbumName': albumName, 'BandName':bandName, 'ReviewScore':int(perc)}, ignore_index=True)"
   ]
  },
  {
   "cell_type": "code",
   "execution_count": null,
   "metadata": {
    "collapsed": true
   },
   "outputs": [],
   "source": []
  }
 ],
 "metadata": {
  "kernelspec": {
   "display_name": "Python 3",
   "language": "python",
   "name": "python3"
  },
  "language_info": {
   "codemirror_mode": {
    "name": "ipython",
    "version": 3
   },
   "file_extension": ".py",
   "mimetype": "text/x-python",
   "name": "python",
   "nbconvert_exporter": "python",
   "pygments_lexer": "ipython3",
   "version": "3.5.2"
  }
 },
 "nbformat": 4,
 "nbformat_minor": 2
}
